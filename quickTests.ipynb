{
 "metadata": {
  "name": "",
  "signature": "sha256:a6fe824ec4c9933b9b930e745b217f9259576e5b2cc6da1a7149cd32cfe20528"
 },
 "nbformat": 3,
 "nbformat_minor": 0,
 "worksheets": [
  {
   "cells": [
    {
     "cell_type": "heading",
     "level": 1,
     "metadata": {},
     "source": [
      "A quick demo for notebook"
     ]
    },
    {
     "cell_type": "code",
     "collapsed": false,
     "input": [
      "basis, exponent = 2, 100000\n",
      "bigNumber = basis ** exponent\n",
      "#print(bigNumber)"
     ],
     "language": "python",
     "metadata": {},
     "outputs": [],
     "prompt_number": 17
    },
    {
     "cell_type": "code",
     "collapsed": false,
     "input": [
      "bigNumberAsString = str(bigNumber)\n",
      "print (\"Number of digits, brute force: {0}\".format(len(bigNumberAsString)))\n",
      "import math\n",
      "print (\"Number of digits, nerd mode: {0}\".format(1+math.floor(exponent*math.log10(basis))))"
     ],
     "language": "python",
     "metadata": {},
     "outputs": [
      {
       "output_type": "stream",
       "stream": "stdout",
       "text": [
        "Number of digits, brute force: 30103\n",
        "Number of digits, nerd mode: 30103\n"
       ]
      }
     ],
     "prompt_number": 18
    },
    {
     "cell_type": "code",
     "collapsed": false,
     "input": [
      "%timeit len(str(basis ** exponent))"
     ],
     "language": "python",
     "metadata": {},
     "outputs": [
      {
       "output_type": "stream",
       "stream": "stdout",
       "text": [
        "10 loops, best of 3: 66.3 ms per loop\n"
       ]
      }
     ],
     "prompt_number": 19
    },
    {
     "cell_type": "code",
     "collapsed": false,
     "input": [
      "%timeit 1+math.floor(exponent*math.log10(basis))"
     ],
     "language": "python",
     "metadata": {},
     "outputs": [
      {
       "output_type": "stream",
       "stream": "stdout",
       "text": [
        "100000 loops, best of 3: 2 \u00b5s per loop\n"
       ]
      }
     ],
     "prompt_number": 20
    },
    {
     "cell_type": "code",
     "collapsed": false,
     "input": [],
     "language": "python",
     "metadata": {},
     "outputs": [],
     "prompt_number": 20
    }
   ],
   "metadata": {}
  }
 ]
}